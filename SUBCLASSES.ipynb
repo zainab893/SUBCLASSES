{
  "nbformat": 4,
  "nbformat_minor": 0,
  "metadata": {
    "colab": {
      "provenance": []
    },
    "kernelspec": {
      "name": "python3",
      "display_name": "Python 3"
    },
    "language_info": {
      "name": "python"
    }
  },
  "cells": [
    {
      "cell_type": "code",
      "execution_count": 13,
      "metadata": {
        "id": "JlGgqPZ_Zn9F"
      },
      "outputs": [],
      "source": [
        "# W25-PAK-INP-AI-01\n",
        "# SYEDA ZAINAB FATIMA"
      ]
    },
    {
      "cell_type": "code",
      "source": [
        "# SUBCLASSES"
      ],
      "metadata": {
        "id": "QuTiKUaKbLca"
      },
      "execution_count": 14,
      "outputs": []
    },
    {
      "cell_type": "code",
      "source": [
        "# SUBCLASS 1\n",
        "class Vehicle:\n",
        "    def describe(self):\n",
        "        print(\"This is a general vehicle.\")\n",
        "\n",
        "class Car(Vehicle):\n",
        "    def describe(self):\n",
        "        print(\"This is a car.\")\n",
        "\n",
        "car = Car()\n",
        "car.describe()  # Output: This is a car."
      ],
      "metadata": {
        "colab": {
          "base_uri": "https://localhost:8080/"
        },
        "id": "TTfMp-3YbLfD",
        "outputId": "a5f376ff-aafb-4faa-b596-d02c70969500"
      },
      "execution_count": 1,
      "outputs": [
        {
          "output_type": "stream",
          "name": "stdout",
          "text": [
            "This is a car.\n"
          ]
        }
      ]
    },
    {
      "cell_type": "code",
      "source": [
        "# SUBCLASS 2\n",
        "class Animal:\n",
        "    def sound(self):\n",
        "        print(\"Animal makes a sound.\")\n",
        "\n",
        "class Mammal(Animal):\n",
        "    def sound(self):\n",
        "        print(\"Mammal makes a sound.\")\n",
        "\n",
        "class Bird(Animal):\n",
        "    def sound(self):\n",
        "        print(\"Bird chirps.\")\n",
        "\n",
        "class Dog(Mammal):\n",
        "    def sound(self):\n",
        "        print(\"Dog barks.\")\n",
        "\n",
        "class Cat(Mammal):\n",
        "    def sound(self):\n",
        "        print(\"Cat meows.\")\n",
        "\n",
        "class Parrot(Bird):\n",
        "    def sound(self):\n",
        "        print(\"Parrot squawks.\")\n",
        "\n",
        "class Eagle(Bird):\n",
        "    def sound(self):\n",
        "        print(\"Eagle screeches.\")\n",
        "\n",
        "dog = Dog()\n",
        "cat = Cat()\n",
        "parrot = Parrot()\n",
        "eagle = Eagle()\n",
        "\n",
        "dog.sound()  # Output: Dog barks.\n",
        "cat.sound()  # Output: Cat meows.\n",
        "parrot.sound()  # Output: Parrot squawks.\n",
        "eagle.sound()  # Output: Eagle screeches.\n",
        "\n",
        "\n",
        "\n",
        "\n",
        "\n",
        "\n",
        "\n",
        "\n",
        "\n",
        "\n",
        "\n"
      ],
      "metadata": {
        "colab": {
          "base_uri": "https://localhost:8080/"
        },
        "id": "THBGuAC2bLhx",
        "outputId": "2411ba92-8e3d-47b8-b6e9-5ad551937cf2"
      },
      "execution_count": 4,
      "outputs": [
        {
          "output_type": "stream",
          "name": "stdout",
          "text": [
            "Dog barks.\n",
            "Cat meows.\n",
            "Parrot squawks.\n",
            "Eagle screeches.\n"
          ]
        }
      ]
    },
    {
      "cell_type": "code",
      "source": [
        "# SUBCLASS 3\n",
        "class Shape:\n",
        "    def area(self):\n",
        "        print(\"Calculating area.\")\n",
        "\n",
        "class Circle(Shape):\n",
        "    def area(self):\n",
        "        print(\"Calculating area of Circle.\")\n",
        "\n",
        "class Rectangle(Shape):\n",
        "    def area(self):\n",
        "        print(\"Calculating area of Rectangle.\")\n",
        "\n",
        "class Triangle(Shape):\n",
        "    def area(self):\n",
        "        print(\"Calculating area of Triangle.\")\n",
        "\n",
        "class SmallCircle(Circle):\n",
        "    def area(self):\n",
        "        print(\"Area of Small Circle.\")\n",
        "\n",
        "class BigCircle(Circle):\n",
        "    def area(self):\n",
        "        print(\"Area of Big Circle.\")\n",
        "\n",
        "class Square(Rectangle):\n",
        "    def area(self):\n",
        "        print(\"Area of Square.\")\n",
        "\n",
        "class LongRectangle(Rectangle):\n",
        "    def area(self):\n",
        "        print(\"Area of Long Rectangle.\")\n",
        "\n",
        "class ScaleneTriangle(Triangle):\n",
        "    def area(self):\n",
        "        print(\"Area of Scalene Triangle.\")\n",
        "\n",
        "class EquilateralTriangle(Triangle):\n",
        "    def area(self):\n",
        "        print(\"Area of Equilateral Triangle.\")\n",
        "\n",
        "small_circle = SmallCircle()\n",
        "big_circle = BigCircle()\n",
        "square = Square()\n",
        "long_rectangle = LongRectangle()\n",
        "scalene_triangle = ScaleneTriangle()\n",
        "equilateral_triangle = EquilateralTriangle()\n",
        "\n",
        "small_circle.area()  # Output: Area of Small Circle.\n",
        "big_circle.area()  # Output: Area of Big Circle.\n",
        "square.area()  # Output: Area of Square.\n",
        "long_rectangle.area()  # Output: Area of Long Rectangle.\n",
        "scalene_triangle.area()  # Output: Area of Scalene Triangle.\n",
        "equilateral_triangle.area()  # Output: Area of Equilateral Triangle.\n"
      ],
      "metadata": {
        "colab": {
          "base_uri": "https://localhost:8080/"
        },
        "id": "0AJt-yfIbLkn",
        "outputId": "b2e4b136-618b-4d73-cb4a-ac251ec42bb9"
      },
      "execution_count": 10,
      "outputs": [
        {
          "output_type": "stream",
          "name": "stdout",
          "text": [
            "Area of Small Circle.\n",
            "Area of Big Circle.\n",
            "Area of Square.\n",
            "Area of Long Rectangle.\n",
            "Area of Scalene Triangle.\n",
            "Area of Equilateral Triangle.\n"
          ]
        }
      ]
    },
    {
      "cell_type": "code",
      "source": [
        "# SUBCLASS 4\n",
        "class Animal:\n",
        "    def habitat(self):\n",
        "        print(\"General habitat.\")\n",
        "\n",
        "class Mammal(Animal):\n",
        "    def habitat(self):\n",
        "        print(\"Mammals live on land or in water.\")\n",
        "\n",
        "class Bird(Animal):\n",
        "    def habitat(self):\n",
        "        print(\"Birds live in nests.\")\n",
        "\n",
        "class Fish(Animal):\n",
        "    def habitat(self):\n",
        "        print(\"Fish live in water.\")\n",
        "\n",
        "class Dog(Mammal):\n",
        "    def habitat(self):\n",
        "        print(\"Dogs live in homes.\")\n",
        "\n",
        "class Lion(Mammal):\n",
        "    def habitat(self):\n",
        "        print(\"Lions live in jungles.\")\n",
        "\n",
        "class Eagle(Bird):\n",
        "    def habitat(self):\n",
        "        print(\"Eagles live in tall trees.\")\n",
        "\n",
        "class Penguin(Bird):\n",
        "    def habitat(self):\n",
        "        print(\"Penguins live in cold regions.\")\n",
        "\n",
        "class Shark(Fish):\n",
        "    def habitat(self):\n",
        "        print(\"Sharks live in deep sea.\")\n",
        "\n",
        "class Salmon(Fish):\n",
        "    def habitat(self):\n",
        "        print(\"Salmon live in fresh water.\")\n",
        "\n",
        "class Wolf(Dog):\n",
        "    def habitat(self):\n",
        "        print(\"Wolves live in forests.\")\n",
        "\n",
        "class Beagle(Dog):\n",
        "    def habitat(self):\n",
        "        print(\"Beagles live in homes.\")\n",
        "\n",
        "class Hawk(Eagle):\n",
        "    def habitat(self):\n",
        "        print(\"Hawks live in cliffs.\")\n",
        "\n",
        "class Sparrow(Eagle):\n",
        "    def habitat(self):\n",
        "        print(\"Sparrows live in trees.\")\n",
        "\n",
        "dog = Dog()\n",
        "lion = Lion()\n",
        "eagle = Eagle()\n",
        "penguin = Penguin()\n",
        "shark = Shark()\n",
        "salmon = Salmon()\n",
        "wolf = Wolf()\n",
        "beagle = Beagle()\n",
        "hawk = Hawk()\n",
        "sparrow = Sparrow()\n",
        "\n",
        "dog.habitat()  # Output: Dogs live in homes.\n",
        "lion.habitat()  # Output: Lions live in jungles.\n",
        "eagle.habitat()  # Output: Eagles live in tall trees.\n",
        "penguin.habitat()  # Output: Penguins live in cold regions.\n",
        "shark.habitat()  # Output: Sharks live in deep sea.\n",
        "salmon.habitat()  # Output: Salmon live in fresh water.\n",
        "wolf.habitat()  # Output: Wolves live in forests.\n",
        "beagle.habitat()  # Output: Beagles live in homes.\n",
        "hawk.habitat()  # Output: Hawks live in cliffs.\n",
        "sparrow.habitat()  # Output: Sparrows live in trees.\n"
      ],
      "metadata": {
        "colab": {
          "base_uri": "https://localhost:8080/"
        },
        "id": "9Op3CZ13bLnM",
        "outputId": "5d575d89-f42f-4a5d-f52f-3439c96d5f57"
      },
      "execution_count": 11,
      "outputs": [
        {
          "output_type": "stream",
          "name": "stdout",
          "text": [
            "Dogs live in homes.\n",
            "Lions live in jungles.\n",
            "Eagles live in tall trees.\n",
            "Penguins live in cold regions.\n",
            "Sharks live in deep sea.\n",
            "Salmon live in fresh water.\n",
            "Wolves live in forests.\n",
            "Beagles live in homes.\n",
            "Hawks live in cliffs.\n",
            "Sparrows live in trees.\n"
          ]
        }
      ]
    },
    {
      "cell_type": "code",
      "source": [
        "# SUBCLASS 5\n",
        "class Vehicle:\n",
        "    def move(self):\n",
        "        print(\"Vehicle moves.\")\n",
        "\n",
        "class Car(Vehicle):\n",
        "    def move(self):\n",
        "        print(\"Car drives on the road.\")\n",
        "\n",
        "class Boat(Vehicle):\n",
        "    def move(self):\n",
        "        print(\"Boat sails on water.\")\n",
        "\n",
        "class Airplane(Vehicle):\n",
        "    def move(self):\n",
        "        print(\"Airplane flies in the sky.\")\n",
        "\n",
        "class Bicycle(Vehicle):\n",
        "    def move(self):\n",
        "        print(\"Bicycle moves on paths.\")\n",
        "\n",
        "class Truck(Car):\n",
        "    def move(self):\n",
        "        print(\"Truck carries heavy loads.\")\n",
        "\n",
        "class Sedan(Car):\n",
        "    def move(self):\n",
        "        print(\"Sedan moves smoothly.\")\n",
        "\n",
        "class Sailboat(Boat):\n",
        "    def move(self):\n",
        "        print(\"Sailboat moves with wind.\")\n",
        "\n",
        "class Yacht(Boat):\n",
        "    def move(self):\n",
        "        print(\"Yacht moves luxuriously.\")\n",
        "\n",
        "class Helicopter(Airplane):\n",
        "    def move(self):\n",
        "        print(\"Helicopter flies and hovers.\")\n",
        "\n",
        "class Jet(Airplane):\n",
        "    def move(self):\n",
        "        print(\"Jet flies at high speed.\")\n",
        "\n",
        "class MountainBike(Bicycle):\n",
        "    def move(self):\n",
        "        print(\"Mountain bike moves on rough terrain.\")\n",
        "\n",
        "class RoadBike(Bicycle):\n",
        "    def move(self):\n",
        "        print(\"Road bike moves on smooth roads.\")\n",
        "\n",
        "car = Car()\n",
        "boat = Boat()\n",
        "airplane = Airplane()\n",
        "bicycle = Bicycle()\n",
        "truck = Truck()\n",
        "sedan = Sedan()\n",
        "sailboat = Sailboat()\n",
        "yacht = Yacht()\n",
        "helicopter = Helicopter()\n",
        "jet = Jet()\n",
        "mountain_bike = MountainBike()\n",
        "road_bike = RoadBike()\n",
        "\n",
        "car.move()  # Output: Car drives on the road.\n",
        "boat.move()  # Output: Boat sails on water.\n",
        "airplane.move()  # Output: Airplane flies in the sky.\n",
        "bicycle.move()  # Output: Bicycle moves on paths.\n",
        "truck.move()  # Output: Truck carries heavy loads.\n",
        "sedan.move()  # Output: Sedan moves smoothly.\n",
        "sailboat.move()  # Output: Sailboat moves with wind.\n",
        "yacht.move()  # Output: Yacht moves luxuriously.\n",
        "helicopter.move()  # Output: Helicopter flies and hovers.\n",
        "jet.move()  # Output: Jet flies at high speed.\n",
        "mountain_bike.move()  # Output: Mountain bike moves on rough terrain.\n",
        "road_bike.move()  # Output: Road bike moves on smooth roads.\n",
        "\n"
      ],
      "metadata": {
        "colab": {
          "base_uri": "https://localhost:8080/"
        },
        "id": "a6R56l9qbLp_",
        "outputId": "ad551079-8c7b-4f4a-d16a-843a5b0bf455"
      },
      "execution_count": 12,
      "outputs": [
        {
          "output_type": "stream",
          "name": "stdout",
          "text": [
            "Car drives on the road.\n",
            "Boat sails on water.\n",
            "Airplane flies in the sky.\n",
            "Bicycle moves on paths.\n",
            "Truck carries heavy loads.\n",
            "Sedan moves smoothly.\n",
            "Sailboat moves with wind.\n",
            "Yacht moves luxuriously.\n",
            "Helicopter flies and hovers.\n",
            "Jet flies at high speed.\n",
            "Mountain bike moves on rough terrain.\n",
            "Road bike moves on smooth roads.\n"
          ]
        }
      ]
    },
    {
      "cell_type": "code",
      "source": [],
      "metadata": {
        "id": "XBcLDhExbLsr"
      },
      "execution_count": null,
      "outputs": []
    },
    {
      "cell_type": "code",
      "source": [],
      "metadata": {
        "id": "Dt2BWV4ObLvR"
      },
      "execution_count": null,
      "outputs": []
    },
    {
      "cell_type": "code",
      "source": [],
      "metadata": {
        "id": "T9URgxz7bLx0"
      },
      "execution_count": null,
      "outputs": []
    }
  ]
}